{
 "cells": [
  {
   "cell_type": "markdown",
   "metadata": {},
   "source": [
    "# Reading 4.3: Optimizing Solutions on AWS"
   ]
  },
  {
   "cell_type": "markdown",
   "metadata": {},
   "source": [
    "## What Is Availability?\n",
    "The availability of a system is typically expressed as a percentage of uptime in a given year or as a number of nines. Below, you can see a list of the percentages of availability based on the downtime per year, as well as its notation in nines.\n",
    "\n",
    "| Database Type | Use Cases                                                                                      | AWS Service                                                    |\n",
    "|---------------|------------------------------------------------------------------------------------------------|----------------------------------------------------------------|\n",
    "| Relational    | Traditional applications, ERP, CRM, e-commerce                                                 | Amazon RDS, Amazon Aurora, Amazon Redshift                     |\n",
    "| Key-value     | High-traffic web apps, e-commerce systems, gaming applications                                 | Amazon DynamoDB                                                |\n",
    "| In-memory     | Caching, session management, gaming leaderboards, geospatial applications                      | Amazon ElastiCache for Memcached, Amazon ElastiCache for Redis |\n",
    "| Document      | Content management, catalogs, user profiles                                                    | Amazon DocumentDB (with MongoDB compatibility)                 |\n",
    "| Wide column   | High-scale industrial apps for equipment maintenance, fleet management, and route optimization | Amazon Keyspaces (for Apache Cassandra)                        |\n",
    "| Graph         | Fraud detection, social networking, recommendation engines                                     | Amazon Neptune                                                 |\n",
    "| Time series   | IoT applications, DevOps, industrial telemetry                                                 | Amazon Timestream                                              |\n",
    "| Ledger        | Systems of record, supply chain, registrations, banking transactions                           | Amazon QLDB                                                    |\n",
    "\n",
    "To increase availability, you need redundancy. This typically means more infrastructure: more data centers, more servers, more databases, and more replication of data. You can imagine that adding more of this infrastructure means a higher cost. Customers want the application to always be available, but you need to draw a line where adding redundancy is no longer viable in terms of revenue."
   ]
  },
  {
   "cell_type": "markdown",
   "metadata": {},
   "source": [
    "## Improve Application Availability\n",
    "In the current application, there is only one EC2 instance used to host the application, the photos are served from Amazon Simple Storage Service (S3) and the structured data is stored in Amazon DynamoDB. That single EC2 instance is a single point of failure for the application. Even if the database and S3 are highly available, customers have no way to connect if the single instance becomes unavailable. One way to solve this single point of failure issue is by adding one more server."
   ]
  },
  {
   "cell_type": "markdown",
   "metadata": {},
   "source": [
    "## Use a Second Availability Zone\n",
    "The physical location of that server is important. On top of having software issues at the operating system or application level, there can be a hardware issue. It could be in the physical server, the rack, the data center or even the Availability Zone hosting the virtual machine. An easy way to fix the physical location issue is by deploying a second EC2 instance in a different Availability Zone. That would also solve issues with the operating system and the application. However, having more than one instance brings new challenges."
   ]
  },
  {
   "cell_type": "markdown",
   "metadata": {},
   "source": [
    "## Manage Replication, Redirection, and High Availability"
   ]
  },
  {
   "cell_type": "markdown",
   "metadata": {},
   "source": [
    "### Create a Process for Replication\n",
    "The first challenge is that you need to create a process to replicate the configuration files, software patches, and application itself across instances. The best method is to automate where you can."
   ]
  },
  {
   "cell_type": "markdown",
   "metadata": {},
   "source": [
    "### Address Customer Redirection\n",
    "The second challenge is how to let the clients, the computers sending requests to your server, know about the different servers. There are different tools that can be used here. The most common is using a Domain Name System (DNS) where the client uses one record which points to the IP address of all available servers. However, the time it takes to update that list of IP addresses and for the clients to become aware of such change, sometimes called propagation, is typically the reason why this method isn\u2019t always used.\n",
    "\n",
    "Another option is to use a load balancer which takes care of health checks and distributing the load across each server. Being between the client and the server, the load balancer avoids propagation time issues. We discuss load balancers later."
   ]
  },
  {
   "cell_type": "markdown",
   "metadata": {},
   "source": [
    "### Understand the Types of High Availability\n",
    "The last challenge to address when having more than one server is the type of availability you need\u2014either be an active-passive or an active-active system.\n",
    "\n",
    "- *Active-Passive:* With an active-passive system, only one of the two instances is available at a time. One advantage of this method is that for stateful applications where data about the client\u2019s session is stored on the server, there won\u2019t be any issues as the customers are always sent to the same server where their session is stored.\n",
    "- *Active-Active:* A disadvantage of active-passive and where an active-active system shines is scalability. By having both servers available, the second server can take some load for the application, thus allowing the entire system to take more load. However, if the application is stateful, there would be an issue if the customer\u2019s session isn\u2019t available on both servers. Stateless applications work better for active-active systems."
   ]
  },
  {
   "cell_type": "markdown",
   "metadata": {},
   "source": [
    "## Resources\n",
    "- [High Availability and Scalability on AWS](https://docs.aws.amazon.com/whitepapers/latest/real-time-communication-on-aws/high-availability-and-scalability-on-aws.html)\n",
    "- [AWS: AWS Reliability Pillar: AWS Well-Architected Framework](https://docs.aws.amazon.com/wellarchitected/latest/reliability-pillar/welcome.html)"
   ]
  }
 ],
 "metadata": {
  "language_info": {
   "name": "python"
  }
 },
 "nbformat": 4,
 "nbformat_minor": 2
}