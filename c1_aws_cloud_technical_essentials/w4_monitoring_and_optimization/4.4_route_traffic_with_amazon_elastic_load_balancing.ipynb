{
 "cells": [
  {
   "cell_type": "markdown",
   "metadata": {},
   "source": [
    "# Reading 4.4: Route Traffic with Amazon Elastic Load Balancing"
   ]
  },
  {
   "cell_type": "markdown",
   "metadata": {},
   "source": [
    "## What\u2019s A Load Balancer?\n",
    "Load balancing refers to the process of distributing tasks across a set of resources. In the case of the corporate directory application, the resources are EC2 instances that host the application, and the tasks are the different requests being sent. It\u2019s time to distribute the requests across all the servers hosting the application using a load balancer.\n",
    "\n",
    "To do this, you first need to enable the load balancer to take all of the traffic and redirect it to the backend servers based on an algorithm. The most popular algorithm is round-robin, which sends the traffic to each server one after the other.\n",
    "\n",
    "A typical request for the application would start from the browser of the client. It\u2019s sent to a load balancer. Then, it\u2019s sent to one of the EC2 instances that hosts the application. The return traffic would go back through the load balancer and back to the client browser. Thus, the load balancer is directly in the path of the traffic.\n",
    "\n",
    "Although it is possible to install your own software load balancing solution on EC2 instances, AWS provides a service for that called Elastic Load Balancing (ELB)."
   ]
  },
  {
   "cell_type": "markdown",
   "metadata": {},
   "source": [
    "## Features Of ELB\n",
    "The ELB service provides a major advantage over using your own solution to do load balancing, in that you don\u2019t need to manage or operate it. It can distribute incoming application traffic across EC2 instances as well as containers, IP addresses, and AWS Lambda functions.\n",
    "\n",
    "- The fact that ELB can load balance to IP addresses means that it can work in a hybrid mode as well, where it also load balances to on-premises servers.\n",
    "- ELB is highly available. The only option you have to ensure is that the load balancer is deployed across multiple Availability Zones.\n",
    "- In terms of scalability, ELB automatically scales to meet the demand of the incoming traffic. It handles the incoming traffic and sends it to your backend application."
   ]
  },
  {
   "cell_type": "markdown",
   "metadata": {},
   "source": [
    "## Health Checks\n",
    "Taking the time to define an appropriate health check is critical. Only verifying that the port of an application is open doesn\u2019t mean that the application is working. It also doesn\u2019t mean that simply making a call to the home page of an application is the right way either.\n",
    "\n",
    "For example, the employee directory application depends on a database, and S3. The health check should validate all of those elements. One way to do that would be to create a monitoring webpage like \u201c/monitor\u201d that will make a call to the database to ensure it can connect and get data, and make a call to S3. Then, you point the health check on the load balancer to the \u201c/monitor\u201d page.\n",
    "\n",
    "<center>\n",
    "  <img \n",
    "    src=\"../../images/c1/w4/01.png\" \n",
    "    onerror=\"\n",
    "      this.onerror = null;\n",
    "      const repo = 'https://github.com/alirezatheh/aws-fundamentals-notes/blob/main';\n",
    "      this.src = repo + this.src.split('..')[2];\n",
    "    \"\n",
    "  >\n",
    "</center>\n",
    "\n",
    "\u00a0After determining the availability of a new EC2 instance, the load balancer starts sending traffic to it. If ELB determines that an EC2 instance is no longer working, it stops sending traffic to it and lets EC2 Auto Scaling know. EC2 Auto Scaling\u2019s responsibility is to remove it from the group and replace it with a new EC2 instance. Traffic only sends to the new instance if it passes the health check.\n",
    "\n",
    "In the case of a scale down action that EC2 Auto Scaling needs to take due to a scaling policy, it lets ELB know that EC2 instances will be terminated. ELB can prevent EC2 Auto Scaling from terminating the EC2 instance until all connections to that instance end, while preventing any new connections. That feature is called\u00a0**connection draining**."
   ]
  },
  {
   "cell_type": "markdown",
   "metadata": {},
   "source": [
    "## ELB Components\n",
    "The ELB service is made up of three main components.\n",
    "\n",
    "<center>\n",
    "  <img \n",
    "    src=\"../../images/c1/w4/02.png\" \n",
    "    onerror=\"\n",
    "      this.onerror = null;\n",
    "      const repo = 'https://github.com/alirezatheh/aws-fundamentals-notes/blob/main';\n",
    "      this.src = repo + this.src.split('..')[2];\n",
    "    \"\n",
    "  >\n",
    "</center>\n",
    "\n",
    "- **Listeners:**\u00a0The client connects to the listener. This is often referred to as client-side. To define a listener, a port must be provided as well as the protocol, depending on the load balancer type. There can be many listeners for a single load balancer.\n",
    "- **Target groups:**\u00a0The backend servers, or server-side, is defined in one or more target groups. This is where you define the type of backend you want to direct traffic to, such as EC2 Instances, AWS Lambda functions, or IP addresses. Also, a health check needs to be defined for each target group.\n",
    "- **Rules:**\u00a0To associate a target group to a listener, a rule must be used. Rules are made up of a condition that can be the source IP address of the client and a condition to decide which target group to send the traffic to."
   ]
  },
  {
   "cell_type": "markdown",
   "metadata": {},
   "source": [
    "## Application Load Balancer\n",
    "Here are some primary features of Application Load Balancer (ALB).\n",
    "\n",
    "**ALB routes traffic based on request data.**\u00a0It makes routing decisions based on the HTTP protocol like the URL path (/upload) and host, HTTP headers and method, as well as the source IP address of the client. This enables granular routing to the target groups.\n",
    "\n",
    "**Send responses directly to the client.**\u00a0ALB has the ability to reply directly to the client with a fixed response like a custom HTML page. It also has the ability to send a redirect to the client which is useful when you need to redirect to a specific website or to redirect the request from HTTP to HTTPS, removing that work from your backend servers.\n",
    "\n",
    "**ALB supports TLS offloading.**\u00a0Speaking of HTTPS and saving work from backend servers, ALB understands HTTPS traffic. To be able to pass HTTPS traffic through ALB, an SSL certificate is provided by either importing a certificate via Identity and Access Management (IAM) or AWS Certificate Manager (ACM) services, or by creating one for free using ACM. This ensures the traffic between the client and ALB is encrypted.\n",
    "\n",
    "**Authenticate users.**\u00a0On the topic of security, ALB has the ability to authenticate the users before they are allowed to pass through the load balancer. ALB uses the OpenID Connect protocol and integrates with other AWS services to support more protocols like SAML, LDAP, Microsoft AD, and more.\n",
    "\n",
    "**Secure traffic.**\u00a0To prevent traffic from reaching the load balancer, you configure a security group to specify the supported IP address ranges.\n",
    "\n",
    "**ALB uses the round-robin routing algorithm.**\u00a0ALB ensures each server receives the same number of requests in general. This type of routing works for most applications.\n",
    "\n",
    "**ALB uses the least outstanding request routing algorithm.**\u00a0If the requests to the backend vary in complexity where one request may need a lot more CPU time than another, then the least outstanding request algorithm is more appropriate. It\u2019s also the right routing algorithm to use if the targets vary in processing capabilities. An outstanding request is when a request is sent to the backend server and a response hasn\u2019t been received yet.\n",
    "\n",
    "For example, if the EC2 instances in a target group aren\u2019t the same size, one server\u2019s CPU utilization will be higher than the other if the same number of requests are sent to each server using the round-robin routing algorithm. That same server will have more outstanding requests as well. Using the least outstanding request routing algorithm would ensure an equal usage across targets.\n",
    "\n",
    "**ALB has sticky sessions.**\u00a0In the case where requests need to be sent to the same backend server because the application is stateful, then use the sticky session feature. This feature uses an HTTP cookie to remember across connections which server to send the traffic to.Finally, ALB is specifically for HTTP and HTTPS traffic. If your application uses a different protocol, then consider the Network Load Balancer (NLB)."
   ]
  },
  {
   "cell_type": "markdown",
   "metadata": {},
   "source": [
    "## Network Load Balancer\n",
    "Here are some primary features of Network Load Balancer (NLB).**Network Load Balancer supports TCP, UDP, and TLS protocols.**\u00a0HTTPS uses TCP and TLS as protocol. However, NLB operates at the connection layer, so it doesn\u2019t understand what a HTTPS request is. That means all features discussed above that are required to understand the HTTP and HTTPS protocol, like routing rules based on that protocol, authentication, and least outstanding request routing algorithm, are not available with NLB.\n",
    "\n",
    "**NLB uses a flow hash routing algorithm.**\u00a0The algorithm is based on:\n",
    "- The protocol\n",
    "- The source IP address and source port\n",
    "- The destination IP address and destination port\n",
    "- The TCP sequence number\n",
    "\n",
    "If all of these parameters are the same, then the packets are sent to the exact same target. If any of them are different in the next packets, then the request may be sent to a different target.\n",
    "\n",
    "**NLB has sticky sessions.**\u00a0Different from ALB, these sessions are based on the source IP address of the client instead of a cookie.\n",
    "\n",
    "**NLB supports TLS offloading.**\u00a0NLB understands the TLS protocol. It can also offload TLS from the backend servers similar to how ALB works.\n",
    "\n",
    "**NLB handles millions of requests per second.**\u00a0While ALB can also support this number of requests, it needs to scale to reach that number. This takes time. NLB can instantly handle this amount of requests.\n",
    "\n",
    "**NLB supports static and elastic IP addresses.**\u00a0There are some situations where the application client needs to send requests directly to the load balancer IP address instead of using DNS. For example, this is useful if your application can\u2019t use DNS or if the connecting clients require firewall rules based on IP addresses. In this case, NLB is the right type of load balancer to use.\n",
    "\n",
    "**NLP preserves source IP address.**\u00a0NLB preserves the source IP address of the client when sending the traffic to the backend. With ALB, if you look at the source IP address of the requests, you will find the IP address of the load balancer. While with NLB, you would see the real IP address of the client, which is required by the backend application in some cases."
   ]
  },
  {
   "cell_type": "markdown",
   "metadata": {},
   "source": [
    "## Select Between ELB Types\n",
    "\n",
    "Selecting between the ELB service types is done by determining which feature is required for your application. Below you can find a list of the major features that you learned in this unit and the previous.\n",
    "\n",
    "| Feature                                                                                     | Application Load Balancer | Network Load Balancer |\n",
    "|---------------------------------------------------------------------------------------------|---------------------------|-----------------------|\n",
    "| Protocols                                                                                   | HTTP, HTTPS               | TCP, UDP, TLS         |\n",
    "| Connection draining (deregistration delay)                                                  | \u2714                         |                       |\n",
    "| IP addresses as targets                                                                     | \u2714                         | \u2714                     |\n",
    "| Static IP and Elastic IP address                                                            |                           | \u2714                     |\n",
    "| Preserve Source IP address                                                                  |                           | \u2714                     |\n",
    "| Routing based on Source IP address, path, host, HTTP headers, HTTP method, and query string | \u2714                         |                       |\n",
    "| Redirects                                                                                   | \u2714                         |                       |\n",
    "| Fixed response                                                                              | \u2714                         |                       |\n",
    "| User authentication                                                                         | \u2714                         |                       |"
   ]
  },
  {
   "cell_type": "markdown",
   "metadata": {},
   "source": [
    "## Resources\n",
    "- [*External Site:*\u00a0AWS: Elastic Load Balancer product comparison](https://aws.amazon.com/elasticloadbalancing/features/#Product_comparisons)\n",
    "- [*External Site:*\u00a0AWS: AWS Certificate Manager](https://aws.amazon.com/certificate-manager/)\n",
    "- [*External Site:*\u00a0AWS: Authenticate users using an Application Load Balancer](https://docs.aws.amazon.com/elasticloadbalancing/latest/application/listener-authenticate-users.html)\n",
    "- [*External Site:*\u00a0AWS: How AWS WAF works](https://docs.aws.amazon.com/waf/latest/developerguide/how-aws-waf-works.html)"
   ]
  }
 ],
 "metadata": {
  "language_info": {
   "name": "python"
  }
 },
 "nbformat": 4,
 "nbformat_minor": 2
}