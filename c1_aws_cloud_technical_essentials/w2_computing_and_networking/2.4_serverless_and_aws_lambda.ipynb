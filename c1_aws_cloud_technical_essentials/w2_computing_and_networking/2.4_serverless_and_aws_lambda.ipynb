{
 "cells": [
  {
   "cell_type": "markdown",
   "metadata": {},
   "source": [
    "# Reading 2.4: Serverless and AWS Lambda"
   ]
  },
  {
   "cell_type": "markdown",
   "metadata": {},
   "source": [
    "## Remove The Undifferentiated Heavy Lifting\n",
    "If you run your code on Amazon EC2, AWS is responsible for the physical hardware and you are responsible for the logical controls, such as guest operating system, security and patching, networking, security, and scaling. If you run your code in containers on Amazon ECS and Amazon EKS, AWS is responsible for more of the container management, such as deploying containers across EC2 instances and managing the container cluster. However, when running ECS and EKS on EC2, you are still responsible for maintaining the underlying EC2 instances. If you want to deploy your workloads and applications without having to manage any EC2 instances, you can do that on AWS with *serverless* compute."
   ]
  },
  {
   "cell_type": "markdown",
   "metadata": {},
   "source": [
    "## Go Serverless\n",
    "Every definition of serverless mentions four aspects.\n",
    "- No servers to provision or manage.\n",
    "- Scales with usage.\n",
    "- You never pay for idle resources.\n",
    "- Availability and fault tolerance are built-in.\n",
    "\n",
    "With serverless, spend time on the things that differentiate your application, rather than spending time on ensuring availability, scaling, and managing servers. AWS has several serverless compute options, including AWS Fargate and AWS Lambda."
   ]
  },
  {
   "cell_type": "markdown",
   "metadata": {},
   "source": [
    "## Explore Serverless Containers With AWS Fargate\n",
    "Amazon ECS and Amazon EKS enable you to run your containers in two modes.\n",
    "- Amazon EC2 mode\n",
    "- AWS Fargate mode\n",
    "\n",
    "<center>\n",
    "  <img \n",
    "    src=\"../../images/c1/w2/09.png\" \n",
    "    onerror=\"\n",
    "      this.onerror = null;\n",
    "      const repo = 'https://github.com/alirezatheh/aws-fundamentals-notes/blob/main';\n",
    "      this.src = repo + this.src.split('..')[2];\n",
    "    \"\n",
    "  >\n",
    "</center>\n",
    "\n",
    "AWS Fargate is a purpose-built serverless compute engine for containers. Fargate scales and manages the infrastructure, allowing developers to work on what they do best: application development. It achieves this by allocating the right amount of compute, eliminating the need to choose and handle EC2 Instances and cluster capacity and scaling. Fargate supports both Amazon ECS and Amazon EKS architecture and provides workload isolation and improved security by design.\n",
    "\n",
    "AWS Fargate abstracts the EC2 instance so you’re not required to manage it. However, with AWS Fargate, you can use all the same ECS primitives, APIs, and AWS integrations. It natively integrates with AWS Identity and Access Management (IAM) and Amazon Virtual Private Cloud (VPC). Having native integration with Amazon VPC allows you to launch Fargate containers inside your network and control connectivity to your applications."
   ]
  },
  {
   "cell_type": "markdown",
   "metadata": {},
   "source": [
    "## Run Your Code On AWS Lambda\n",
    "\n",
    "If you want to deploy your workloads and applications without having to manage any EC2 instances or containers, you can use AWS Lambda. AWS Lambda lets you run code without provisioning or managing servers or containers. You can run code for virtually any type of application or backend service, including data processing, real-time stream processing, machine learning, WebSockets, IoT backends, mobile backends, and web apps, like your corporate directory app!\n",
    "\n",
    "AWS Lambda requires zero administration from the user. You upload your source code and Lambda takes care of everything required to run and scale your code with high availability. There are no servers to manage, bringing you continuous scaling with subsecond metering and consistent performance."
   ]
  },
  {
   "cell_type": "markdown",
   "metadata": {},
   "source": [
    "## How Lambda Works\n",
    "\n",
    "There are three primary components of a Lambda function: the trigger, code, and configuration. The code is source code, that describes what the Lambda function should run. This code can be authored in three ways.\n",
    "\n",
    "<center>\n",
    "  <img \n",
    "    src=\"../../images/c1/w2/10.png\" \n",
    "    onerror=\"\n",
    "      this.onerror = null;\n",
    "      const repo = 'https://github.com/alirezatheh/aws-fundamentals-notes/blob/main';\n",
    "      this.src = repo + this.src.split('..')[2];\n",
    "    \"\n",
    "  >\n",
    "</center>\n",
    "\n",
    "- You create the code from scratch.\n",
    "- You use a blueprint that AWS provides.\n",
    "- You use same code from the AWS Serverless Application Repository, a resource that contains sample applications, such as “hello world” code, Amazon Alexa Skill sample code, image resizing code, video encoding, and more.\n",
    "\n",
    "When you create your Lambda function, you specify the runtime you want your code to run in. There are built-in runtimes such as Python, Node.js, Ruby, Go, Java, .NET Core, or you can implement your Lambda functions to run on a custom runtime.The configuration of a Lambda function consists of information that describes how the function should run. In the configuration, you specify network placement, environment variables, memory, invocation type, permission sets, and other configurations. To dive deeper into these configurations, check out the resources section of this unit. Triggers describe when the Lambda function should run.\n",
    "\n",
    "A trigger integrates your Lambda function with other AWS services, enabling you to run your Lambda function in response to certain API calls that occur in your AWS account. This makes you quicker to respond to events in your console without having to perform manual actions. All you need is the what, how, and when of a Lambda function to have functional compute capacity that runs only when you need it to. Amazon’s CTO, Werner Vogels, says, “No server is easier to manage than no server.” This quote summarizes the convenience you can have when running serverless solutions, like AWS Fargate and AWS Lambda.\n",
    "\n",
    "In the next unit, you apply all the information you’ve learned about Amazon EC2, Amazon ECS and Amazon EKS, and AWS Fargate and learn the use cases for each service."
   ]
  },
  {
   "cell_type": "markdown",
   "metadata": {},
   "source": [
    "## AWS Lambda function handler\n",
    "The AWS Lambda function handler is the method in your function code that processes events. When your function is invoked, Lambda runs the handler method. When the handler exits or returns a response, it becomes available to handle another event. You can use the following general syntax when creating a function handler in Python:\n",
    "\n",
    "```python\n",
    "def handler_name(event, context): ... return some_value\n",
    "```"
   ]
  },
  {
   "cell_type": "markdown",
   "metadata": {},
   "source": [
    "## Naming\n",
    "The Lambda function *handler* name specified at the time you create a Lambda function is derived from the following:\n",
    "- the name of the file in which the Lambda handler function is located\n",
    "- the name of the Python handler function\n",
    "\n",
    "A function handler can be any name; however, the default on the Lambda console is `lambda_function.lambda_handler`. This name reflects the function name as `lambda_handler`, and the file where the handler code is stored in *lambda_function.py*. If you choose a different name for your function handler on the Lambda console, you must update the name on the **Runtime settings** pane."
   ]
  },
  {
   "cell_type": "markdown",
   "metadata": {},
   "source": [
    "## Billing Granularity\n",
    "AWS Lambda lets you run code without provisioning or managing servers, and you pay only for what you use. You are charged for the number of times your code is triggered (requests) and for the time your code executes, rounded up to the nearest 1ms (duration). AWS rounds up duration to the nearest millisecond with no minimum execution time. With this pricing, it can be very cost effective to run functions whose execution time is very low, such as functions with durations under 100ms or low latency APIs. For more information, see [AWS News BlogOpens in a new tab](https://www.coursera.org/learn/aws-cloud-technical-essentials/supplement/Zq1Wb/reading-2-5-networking-on-awshttps://)."
   ]
  },
  {
   "cell_type": "markdown",
   "metadata": {},
   "source": [
    "## Source Code\n",
    "This video used a small amount of sample code illustrating a pattern for lazily generating assets using AWS Lambda and Amazon S3. If you’re looking to deploy a service to resize images to production, consider using the new release [Serverless Image Handler](https://aws.amazon.com/answers/web-applications/serverless-image-handler/) which is a robust solution to handle image manipulation and can be deployed via an AWS CloudFormation template.\n",
    "\n",
    "You can find a tutorial on creating the AWS Lambda function as well as the code used in the AWS Lambda demo here: see [AWS News Blog](https://aws.amazon.com/blogs/compute/resize-images-on-the-fly-with-amazon-s3-aws-lambda-and-amazon-api-gateway/)."
   ]
  },
  {
   "cell_type": "markdown",
   "metadata": {},
   "source": [
    "## Resources\n",
    "- [*External Site:* AWS: Serverless](https://aws.amazon.com/serverless/#:~:text=Serverless%20is%20the%20native%20architecture,services%20without%20thinking%20about%20servers.)\n",
    "- [*Coursera Course:* Building Modern Python Applications on AWS](https://www.coursera.org/learn/building-modern-python-applications-on-aws)\n",
    "- [*External Site:* AWS: AWS Serverless resources](https://aws.amazon.com/serverless/resources/?serverless.sort-by=item.additionalFields.createdDate&serverless.sort-order=desc)\n",
    "- [*External Site:* AWS: Building Applications with Serverless Architectures](https://aws.amazon.com/lambda/serverless-architectures-learn-more/)\n",
    "- [*External Site:* AWS: Best practices for organizing larger serverless applications](https://aws.amazon.com/blogs/compute/best-practices-for-organizing-larger-serverless-applications/)\n",
    "- [*External Site:* AWS: Managing AWS Lambda functions](https://docs.aws.amazon.com/lambda/latest/dg/lambda-functions.html)\n",
    "- [*External Site:* AWS: 10 Things Serverless Architects Should Know](https://aws.amazon.com/blogs/architecture/ten-things-serverless-architects-should-know/)\n",
    "- [*External Site:* AWS: AWS Alien Attack! A Serverless Adventure](https://alienattack.workshop.aws/)"
   ]
  }
 ],
 "metadata": {
  "language_info": {
   "name": "python"
  }
 },
 "nbformat": 4,
 "nbformat_minor": 2
}
