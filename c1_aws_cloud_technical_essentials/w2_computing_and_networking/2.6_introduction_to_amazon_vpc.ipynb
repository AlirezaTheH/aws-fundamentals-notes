{
 "cells": [
  {
   "cell_type": "markdown",
   "metadata": {},
   "source": [
    "# Reading 2.6: Introduction to Amazon VPC\n",
    "A VPC is an isolated network you create in the AWS cloud, similar to a traditional network in a data center. When you create a VPC, you need to choose three main things.\n",
    "1. The name of your VPC.\n",
    "2. A Region for your VPC to live in. Each VPC spans multiple Availability Zones within the Region you choose.\n",
    "3. A IP range for your VPC in CIDR notation. This determines the size of your network. Each VPC can have up to four /16 IP ranges.\n",
    "\n",
    "Using this information, AWS will provision a network and IP addresses for that network.\n",
    "\n",
    "<center>\n",
    "  <img \n",
    "    src=\"../../images/c1/w2/15.png\" \n",
    "    onerror=\"\n",
    "      this.onerror = null;\n",
    "      const repo = 'https://github.com/alirezatheh/aws-fundamentals-notes/blob/main';\n",
    "      this.src = repo + this.src.split('..')[2];\n",
    "    \"\n",
    "  >\n",
    "</center>\n",
    "\n",
    "**Create a Subnet** After you create your VPC, you need to create subnets inside of this network. Think of subnets as smaller networks inside your base network\u2014or virtual area networks (VLANs) in a traditional, on-premises network. In an on-premises network, the typical use case for subnets is to isolate or optimize network traffic. In AWS, subnets are used for high availability and providing different connectivity options for your resources. When you create a subnet, you need to choose three settings.\n",
    "1. The VPC you want your subnet to live in, in this case VPC (10.0.0.0/16).\n",
    "2. The Availability Zone you want your subnet to live in, in this case AZ1.\n",
    "3. A CIDR block for your subnet, which must be a subset of the VPC CIDR block, in this case 10.0.0.0/24.\n",
    "\n",
    "When you launch an EC2 instance, you launch it inside a subnet, which will be located inside the Availability Zone you choose.\n",
    "\n",
    "<center>\n",
    "  <img \n",
    "    src=\"../../images/c1/w2/16.png\" \n",
    "    onerror=\"\n",
    "      this.onerror = null;\n",
    "      const repo = 'https://github.com/alirezatheh/aws-fundamentals-notes/blob/main';\n",
    "      this.src = repo + this.src.split('..')[2];\n",
    "    \"\n",
    "  >\n",
    "</center>\n",
    "\n",
    "**High Availability with A VPC** When you create your subnets, keep high availability in mind. In order to maintain redundancy and fault tolerance, create at least two subnets configured in two different Availability Zones.\n",
    "\n",
    "As you learned earlier in the trail, it\u2019s important to consider that \u201ceverything fails all the time.\u201d In this case, if one of these AZs fail, you still have your resources in another AZ available as backup.\n",
    "\n",
    "<center>\n",
    "  <img \n",
    "    src=\"../../images/c1/w2/17.png\" \n",
    "    onerror=\"\n",
    "      this.onerror = null;\n",
    "      const repo = 'https://github.com/alirezatheh/aws-fundamentals-notes/blob/main';\n",
    "      this.src = repo + this.src.split('..')[2];\n",
    "    \"\n",
    "  >\n",
    "</center>\n",
    "\n",
    "**Reserved IPs** For AWS to configure your VPC appropriately, AWS reserves five IP addresses in each subnet. These IP addresses are used for routing, Domain Name System (DNS), and network management.\n",
    "\n",
    "For example, consider a VPC with the IP range 10.0.0.0/22. The VPC includes 1,024 total IP addresses. This is divided into four equal-sized subnets, each with a /24 IP range with 256 IP addresses. Out of each of those IP ranges, there are only 251 IP addresses that can be used because AWS reserves five.\n",
    "\n",
    "<center>\n",
    "  <img \n",
    "    src=\"../../images/c1/w2/18.png\" \n",
    "    onerror=\"\n",
    "      this.onerror = null;\n",
    "      const repo = 'https://github.com/alirezatheh/aws-fundamentals-notes/blob/main';\n",
    "      this.src = repo + this.src.split('..')[2];\n",
    "    \"\n",
    "  >\n",
    "</center>\n",
    "\n",
    "Since AWS reserves these five IP addresses, it can impact how you design your network. A common starting place for those who are new to the cloud is to create a VPC with a IP range of /16 and create subnets with a IP range of /24. This provides a large amount of IP addresses to work with at both the VPC and subnet level."
   ]
  },
  {
   "cell_type": "markdown",
   "metadata": {},
   "source": [
    "## Gateways"
   ]
  },
  {
   "cell_type": "markdown",
   "metadata": {},
   "source": [
    "### Internet Gateway\n",
    "To enable internet connectivity for your VPC, you need to create an internet gateway. Think of this gateway as similar to a modem. Just as a modem connects your computer to the internet, the internet gateway connects your VPC to the internet. Unlike your modem at home, which sometimes goes down or offline, an internet gateway is highly available and scalable. After you create an internet gateway, you then need to attach it to your VPC."
   ]
  },
  {
   "cell_type": "markdown",
   "metadata": {},
   "source": [
    "### Virtual Private Gateway\n",
    "A virtual private gateway allows you to connect your AWS VPC to another private network. Once you create and attach a VGW to a VPC, the gateway acts as anchor on the AWS side of the connection. On the other side of the connection, you\u2019ll need to connect a customer gateway to the other private network. A customer gateway device is a physical device or software application on your side of the connection. Once you have both gateways, you can then establish an encrypted VPN connection between the two sides."
   ]
  },
  {
   "cell_type": "markdown",
   "metadata": {},
   "source": [
    "## Resources\n",
    "- [AWS: VPC with public and private subnets (NAT)](https://docs.aws.amazon.com/vpc/latest/userguide/VPC_Scenario2.html)\n",
    "- [AWS: custom route tables](https://docs.aws.amazon.com/vpc/latest/userguide/VPC_Route_Tables.html#CustomRouteTables)\n",
    "- [Customer Gateway](https://docs.aws.amazon.com/vpn/latest/s2svpn/how_it_works.html#CustomerGateway)\n",
    "- [AWS: What Is Amazon VPC?](https://docs.aws.amazon.com/vpc/latest/userguide/what-is-amazon-vpc.html)\n",
    "- [AWS: VPCs and subnets](https://docs.aws.amazon.com/vpc/latest/userguide/VPC_Subnets.html)"
   ]
  }
 ],
 "metadata": {
  "language_info": {
   "name": "python"
  }
 },
 "nbformat": 4,
 "nbformat_minor": 2
}