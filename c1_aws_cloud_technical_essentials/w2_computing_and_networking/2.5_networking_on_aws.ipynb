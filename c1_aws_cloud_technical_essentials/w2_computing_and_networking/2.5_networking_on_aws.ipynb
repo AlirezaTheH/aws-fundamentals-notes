{
 "cells": [
  {
   "cell_type": "markdown",
   "metadata": {},
   "source": [
    "# Reading 2.5: Networking on AWS"
   ]
  },
  {
   "cell_type": "markdown",
   "metadata": {},
   "source": [
    "## What Is Networking?\n",
    "Networking is how you connect computers around the world and allow them to communicate with one another. In this trail, you\u2019ve already seen a few examples of networking. One is the AWS global infrastructure. AWS has created a network of resources using data centers, Availability Zones, and Regions."
   ]
  },
  {
   "cell_type": "markdown",
   "metadata": {},
   "source": [
    "## Know The Networking Basics\n",
    "Think about sending a letter. When sending a letter, there are three pieces of information you need.\n",
    "- The payload or letter inside the envelope.\n",
    "- The address of the sender in the From section.\n",
    "- The address of the recipient in the To section.\n",
    "\n",
    "Let\u2019s go further. Each address must contain information such as:\n",
    "- Name of sender and recipient\n",
    "- Street\n",
    "- City\n",
    "- State or province\n",
    "- Zip, area, or postal code\n",
    "- Country\n",
    "\n",
    "You need all parts of an address to ensure that your letter gets to its destination. Without the correct address, postal workers are not able to properly deliver the message. In the digital world, computers handle the delivery of messages in a similar way. This is called routing."
   ]
  },
  {
   "cell_type": "markdown",
   "metadata": {},
   "source": [
    "## What Are Ip Addresses?\n",
    "In order to properly route your messages to a location, you need an address. Just like each home has a mail address, each computer has an IP address. However, instead of using the combination of street, city, state, zip code, and country, the IP address uses a combination of bits, 0s and 1s.\n",
    "\n",
    "Here is an example of a 32-bit address in binary format:\n",
    "\n",
    "<center>\n",
    "  <img \n",
    "    src=\"../../images/c1/w2/11.png\" \n",
    "    onerror=\"\n",
    "      this.onerror = null;\n",
    "      const repo = 'https://github.com/alirezatheh/aws-fundamentals-notes/blob/main';\n",
    "      this.src = repo + this.src.split('..')[2];\n",
    "    \"\n",
    "  >\n",
    "</center>\n",
    "\n",
    "It\u2019s called 32-bit because you have 32 digits. Feel free to count!"
   ]
  },
  {
   "cell_type": "markdown",
   "metadata": {},
   "source": [
    "## What Is IPv4 Notation?\n",
    "Typically, you don\u2019t see an IP address in this binary format. Instead, it\u2019s converted into decimal format and noted as an Ipv4 address.\n",
    "\n",
    "In the diagram below, the 32 bits are grouped into groups of 8 bits, also called octets. Each of these groups is converted into decimal format separated by a period.\u00a0\n",
    "\n",
    "<center>\n",
    "  <img \n",
    "    src=\"../../images/c1/w2/12.png\" \n",
    "    onerror=\"\n",
    "      this.onerror = null;\n",
    "      const repo = 'https://github.com/alirezatheh/aws-fundamentals-notes/blob/main';\n",
    "      this.src = repo + this.src.split('..')[2];\n",
    "    \"\n",
    "  >\n",
    "</center>\n",
    "\n",
    "In the end, this is what is called an Ipv4 address. This is important to know when trying to communicate to a single computer. But remember, you\u2019re working with a network. This is where CIDR Notation comes in."
   ]
  },
  {
   "cell_type": "markdown",
   "metadata": {},
   "source": [
    "## Use Cidr Notation\n",
    "192.168.1.30 is a single IP address. If you wanted to express IP addresses between the range of 192.168.1.0 and 192.168.1.255, how can you do that?\n",
    "\n",
    "One way is by using Classless Inter-Domain Routing (CIDR) notation. CIDR notation is a compressed way of specifying a range of IP addresses. Specifying a range determines how many IP addresses are available to you.\n",
    "\n",
    "CIDR notation looks like this:\u00a0\n",
    "\n",
    "<center>\n",
    "  <img \n",
    "    src=\"../../images/c1/w2/13.png\" \n",
    "    onerror=\"\n",
    "      this.onerror = null;\n",
    "      const repo = 'https://github.com/alirezatheh/aws-fundamentals-notes/blob/main';\n",
    "      this.src = repo + this.src.split('..')[2];\n",
    "    \"\n",
    "  >\n",
    "</center>\n",
    "\n",
    "It begins with a starting IP address and is separated by a forward slash (the \u201c/\u201d character) followed by a number. The number at the end specifies how many of the bits of the IP address are fixed. In this example, the first 24 bits of the IP address are fixed. The rest are flexible.\u00a0\n",
    "\n",
    "<center>\n",
    "  <img \n",
    "    src=\"../../images/c1/w2/14.png\" \n",
    "    onerror=\"\n",
    "      this.onerror = null;\n",
    "      const repo = 'https://github.com/alirezatheh/aws-fundamentals-notes/blob/main';\n",
    "      this.src = repo + this.src.split('..')[2];\n",
    "    \"\n",
    "  >\n",
    "</center>\n",
    "\n",
    "32 total bits subtracted by 24 fixed bits leaves 8 flexible bits. Each of these flexible bits can be either 0 or 1, because they are binary. That means you have two choices for each of the 8 bits, providing 256 IP addresses in that IP range.\n",
    "\n",
    "The higher the number after the /, the smaller the number of IP addresses in your network. For example, a range of 192.168.1.0/24 is smaller than 192.168.1.0/16.\n",
    "\n",
    "When working with networks in the AWS Cloud, you choose your network size by using CIDR notation. In AWS, the smallest IP range you can have is /28, which provides you 16 IP addresses. The largest IP range you can have is a /16, which provides you with 65,536 IP addresses."
   ]
  },
  {
   "cell_type": "markdown",
   "metadata": {},
   "source": [
    "## Resources\n",
    "- [Stanford: Introduction to Computer Networking](https://web.stanford.edu/class/cs101/network-1-introduction.html)\n",
    "- [Ionos: CIDR: What is classless inter-domain routing?](https://www.ionos.com/digitalguide/server/know-how/cidr-classless-inter-domain-routing/)"
   ]
  }
 ],
 "metadata": {
  "language_info": {
   "name": "python"
  }
 },
 "nbformat": 4,
 "nbformat_minor": 2
}