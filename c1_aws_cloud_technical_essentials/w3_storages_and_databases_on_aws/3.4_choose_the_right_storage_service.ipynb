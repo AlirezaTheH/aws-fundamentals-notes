{
 "cells": [
  {
   "cell_type": "markdown",
   "metadata": {},
   "source": [
    "# Reading 3.4: Choose the Right Storage Service\n",
    "Here\u2019s a recap of all the storage services mentioned so far. By the end of this reading, you should be able to better answer the question \u201cWhich storage service should I use?\u201d for some of the more common scenarios."
   ]
  },
  {
   "cell_type": "markdown",
   "metadata": {},
   "source": [
    "## Amazon EC2 Instance Store\n",
    "Instance store is ephemeral block storage. This is preconfigured storage that exists on the same physical server that hosts the EC2 instance and cannot be detached from Amazon EC2. You can think of it as a built-in drive for your EC2 instance. Instance store is generally well-suited for temporary storage of information that is constantly changing, such as buffers, caches, and scratch data. It is not meant for data that is persistent or long-lasting. If you need persistent long-term block storage that can be detached from Amazon EC2 and provide you more management flexibility, such as increasing volume size or creating snapshots, then you should use Amazon EBS."
   ]
  },
  {
   "cell_type": "markdown",
   "metadata": {},
   "source": [
    "## Amazon EBS\n",
    "Amazon EBS is meant for data that changes frequently and needs to persist through instance stops, terminations, or hardware failures. Amazon EBS has two different types of volumes: SSD-backed volumes and HDD-backed volumes.SSD-backed volumes have the following characteristics.\n",
    "- Performance depends on IOPS (input/output operations per second).\n",
    "- Ideal for transactional workloads such as databases and boot volumes.\n",
    "\n",
    "HDD-backed volumes have the following characteristics:\n",
    "- Performance depends on MB/s.\n",
    "- Ideal for throughput-intensive workloads, such as big data, data warehouses, log processing, and sequential data I/O.\n",
    "\n",
    "Here are a few important features of Amazon EBS that you need to know when comparing it to other services.\n",
    "- It is block storage.\n",
    "- You pay for what you provision (you have to provision storage in advance).\n",
    "- EBS volumes are replicated across multiple servers in a single Availability Zone.\n",
    "- Most EBS volumes can only be attached to a single EC2 instance at a time."
   ]
  },
  {
   "cell_type": "markdown",
   "metadata": {},
   "source": [
    "## Amazon S3\n",
    "If your data doesn\u2019t change that often, Amazon S3 might be a more cost-effective and scalable storage solution. S3 is ideal for storing static web content and media, backups and archiving, data for analytics, and can even be used to host entire static websites with custom domain names.Here are a few important features of Amazon S3 to know about when comparing it to other services.\n",
    "- It is object storage.\n",
    "- You pay for what you use (you don\u2019t have to provision storage in advance).\n",
    "- Amazon S3 replicates your objects across multiple Availability Zones in a Region.\n",
    "- Amazon S3 is not storage attached to compute."
   ]
  },
  {
   "cell_type": "markdown",
   "metadata": {},
   "source": [
    "## Amazon Elastic File System (Amazon EFS) and Amazon FSx\n",
    "In this module, you\u2019ve already learned about Amazon S3 and Amazon EBS. You learned that S3 uses a flat namespace and isn\u2019t meant to serve as a standalone file system. You also learned most EBS volumes can only be attached to one EC2 instance at a time. So, if you need file storage on AWS, which service should you use?For file storage that can mount on to multiple EC2 instances, you can use Amazon Elastic File System (Amazon EFS) or Amazon FSx. Use the following table for more information about each of these services.\n",
    "\n",
    "| Service                            | Characteristic                                                                    | More Information                                                                             |\n",
    "|------------------------------------|-----------------------------------------------------------------------------------|----------------------------------------------------------------------------------------------|\n",
    "| Amazon Elastic File System (EFS)   | Fully managed NFS file system.                                                    | [EFS FAQs](https://aws.amazon.com/efs/faq/)                                                  |\n",
    "| Amazon FSx for Windows File Server | Fully managed file server built on Windows Server that supports the SMB protocol. | [FSx for Windows File Server FAQs](https://aws.amazon.com/fsx/windows/faqs/?nc=sn&amp;loc=8) |\n",
    "| Amazon FSx for Lustre              | Fully managed Lustre file system that integrates with S3.                         | [FSx for Lustre FAQs](https://aws.amazon.com/fsx/lustre/faqs/?nc=sn&amp;amp;amp;amp;loc=5)   |\n",
    "\n",
    "Here are a few important features of Amazon EFS and FSx to know about when comparing them to other services.\n",
    "- It is file storage.\n",
    "- You pay for what you use (you don\u2019t have to provision storage in advance).\n",
    "- Amazon EFS and Amazon FSx can be mounted onto multiple EC2 instances."
   ]
  },
  {
   "cell_type": "markdown",
   "metadata": {},
   "source": [
    "## Resources\n",
    "- [AWS: StorageOpens in a new tab](https://docs.aws.amazon.com/AWSEC2/latest/UserGuide/Storage.html)\n",
    "- [AWS: Cloud Storage on AWSOpens in a new tab](https://aws.amazon.com/products/storage/)\n",
    "- [Amazon EFS How it worksOpens in a new tab](https://docs.aws.amazon.com/efs/latest/ug/how-it-works.html)\n",
    "- [Amazon FSx for Windows File ServerOpens in a new tab](https://aws.amazon.com/fsx/windows/)\n",
    "- [Amazon FSx for LustreOpens in a new tab](https://aws.amazon.com/fsx/lustre/)"
   ]
  }
 ],
 "metadata": {
  "language_info": {
   "name": "python"
  }
 },
 "nbformat": 4,
 "nbformat_minor": 2
}