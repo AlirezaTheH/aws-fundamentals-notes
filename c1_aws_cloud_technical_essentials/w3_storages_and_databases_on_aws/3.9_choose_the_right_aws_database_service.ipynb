{
 "cells": [
  {
   "cell_type": "markdown",
   "metadata": {},
   "source": [
    "# Reading 3.9: Choose the Right AWS Database Service"
   ]
  },
  {
   "cell_type": "markdown",
   "metadata": {},
   "source": [
    "## AWS Database Services\n",
    "AWS has a variety of different database options for different use cases. Use the table below to get a quick look at the AWS database portfolio.\n",
    "\n",
    "| Database Type | Use Cases                                                                                      | AWS Service                                                    |\n",
    "|---------------|------------------------------------------------------------------------------------------------|----------------------------------------------------------------|\n",
    "| Relational    | Traditional applications, ERP, CRM, e-commerce                                                 | Amazon RDS, Amazon Aurora, Amazon Redshift                     |\n",
    "| Key-value     | High-traffic web apps, e-commerce systems, gaming applications                                 | Amazon DynamoDB                                                |\n",
    "| In-memory     | Caching, session management, gaming leaderboards, geospatial applications                      | Amazon ElastiCache for Memcached, Amazon ElastiCache for Redis |\n",
    "| Document      | Content management, catalogs, user profiles                                                    | Amazon DocumentDB (with MongoDB compatibility)                 |\n",
    "| Wide column   | High-scale industrial apps for equipment maintenance, fleet management, and route optimization | Amazon Keyspaces (for Apache Cassandra)                        |\n",
    "| Graph         | Fraud detection, social networking, recommendation engines                                     | Amazon Neptune                                                 |\n",
    "| Time series   | IoT applications, DevOps, industrial telemetry                                                 | Amazon Timestream                                              |\n",
    "| Ledger        | Systems of record, supply chain, registrations, banking transactions                           | Amazon QLDB                                                    |"
   ]
  },
  {
   "cell_type": "markdown",
   "metadata": {},
   "source": [
    "## Breaking Up Applications and Databases\n",
    "As the industry changes, applications and databases change too. Today, with larger applications, you no longer see just one database supporting it. Instead, these applications are being broken into smaller services, each with their own purpose-built database supporting it.\n",
    "\n",
    "This shift removes the idea of a one-size-fits-all database and replaces it with a complimentary database strategy. You can give each database the appropriate functionality, performance, and scale that the workload requires."
   ]
  },
  {
   "cell_type": "markdown",
   "metadata": {},
   "source": [
    "## Resources\n",
    "- [AWS: Databases on AWS](https://aws.amazon.com/products/databases/)\n",
    "- [AWS: AWS Database Blog](https://aws.amazon.com/blogs/database/?nc=sn&loc=4)\n",
    "- [AWS: Database Freedom](https://aws.amazon.com/products/databases/freedom/?nc=sn&loc=5)"
   ]
  }
 ],
 "metadata": {
  "language_info": {
   "name": "python"
  }
 },
 "nbformat": 4,
 "nbformat_minor": 2
}