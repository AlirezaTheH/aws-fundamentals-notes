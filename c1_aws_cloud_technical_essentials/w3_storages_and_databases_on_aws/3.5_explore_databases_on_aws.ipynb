{
 "cells": [
  {
   "cell_type": "markdown",
   "metadata": {},
   "source": [
    "# Reading 3.5: Explore Databases on AWS"
   ]
  },
  {
   "cell_type": "markdown",
   "metadata": {},
   "source": [
    "## Understanding The History Behind Enterprise Databases\n",
    "Choosing a database used to be a straightforward decision. There were only a few options to choose from. In the past, you likely considered a few vendors and then inevitably chose one for all of your applications.\n",
    "\n",
    "Businesses often selected the database technology they were going to use, even before they fully understood their use case. Since the 1970s, the database most commonly selected by businesses was a **relational database**."
   ]
  },
  {
   "cell_type": "markdown",
   "metadata": {},
   "source": [
    "## What Is A Relational Database?\n",
    "A relational database organizes data into tables. Data in one table can be linked to data in other tables to create relationships (hence, the relational part of the name).\n",
    "\n",
    "A table stores data in rows and columns. A row, often called a record, contains all information about a specific entry. Columns describe attributes of that entry. Here’s an example of three tables in a relational database.\n",
    "\n",
    "<center>\n",
    "  <img \n",
    "    src=\"../../images/c1/w3/05.png\" \n",
    "    onerror=\"\n",
    "      this.onerror = null;\n",
    "      const repo = 'https://github.com/alirezatheh/aws-fundamentals-notes/blob/main';\n",
    "      this.src = repo + this.src.split('..')[2];\n",
    "    \"\n",
    "  >\n",
    "</center>\n",
    "\n",
    "This shows a table for books, a table for sales, and a table for authors. In the books table, each row includes the book ISBN, the title, the author, and the format. Each of these attributes is stored in its own column. The books table has something in common with the other two tables: the author attribute. That common column creates a relationship between the tables.\n",
    "\n",
    "The tables, rows, columns, and relationships between them is referred to as a **logical schema**. With relational databases, a schema is fixed. Once the database is operational, it becomes difficult to change the schema. This requires most of the data modeling to be done upfront before the database is active."
   ]
  },
  {
   "cell_type": "markdown",
   "metadata": {},
   "source": [
    "## What Is A Relational Database Management System?\n",
    "A relational database management system (RDBMS) lets you create, update, and administer a relational database. Here are some common examples of relational database management systems:\n",
    "- MySQL\n",
    "- PostgresQL\n",
    "- Oracle\n",
    "- SQL server\n",
    "- Amazon Aurora\n",
    "\n",
    "You communicate with most RDBMS by using Structured Query Language (SQL) queries. Here’s an example: `SELECT * FROM table_name`.\n",
    "\n",
    "This query selects all of the data from a particular table. However, the real power of SQL queries is in creating more complex queries that let you pull data from several tables to piece together patterns and answers to business problems. For example, querying the sales table and the book table together to see sales in relation to an author’s books. This is made possible by a join, which we talk about next."
   ]
  },
  {
   "cell_type": "markdown",
   "metadata": {},
   "source": [
    "## The Benefits Of Using A Relational Database\n",
    "There are many benefits to using a relational database. A few of them are listed here.\n",
    "\n",
    "- **Joins:** You can join tables, enabling you to better understand relationships between your data.\n",
    "- **Reduced redundancy:** You can store data in one table and reference it from other tables instead of saving the same data in different places.\n",
    "- **Familiarity:** Relational databases have been a popular choice since the 1970s. Due to this popularity, technical professionals often have familiarity and experience with this type of database.\n",
    "- **Accuracy:** Relational databases ensure that your data is persisted with high integrity and adheres to the ACID (atomicity, consistency, isolation, durability) principle."
   ]
  },
  {
   "cell_type": "markdown",
   "metadata": {},
   "source": [
    "## Use Cases For Relational Databases\n",
    "Much of the world runs on relational databases. In fact, they’re at the core of many mission-critical applications, some of which you may use in your day to day life. Here are some common use cases for relational databases. \n",
    "- Applications that have a solid schema that doesn’t change often, such as:\n",
    "  - Lift and shift applications that lifts an app from on-premises and shifts it to the cloud, with little or no modifications.\n",
    "- Applications that need persistent storage that follows the ACID principle, such as:\n",
    "  - Enterprise Resource Planning (ERP) applications\n",
    "  - Customer Relationship Management (CRM) applications\n",
    "  - Commerce and financial applications"
   ]
  },
  {
   "cell_type": "markdown",
   "metadata": {},
   "source": [
    "## Choose Between Unmanaged And Managed Databases\n",
    "If you want to run a relational database on AWS, you first need to select how you want to run it: the unmanaged way or the managed way.\n",
    "\n",
    "The paradigm of managed versus unmanaged services is similar to the Shared Responsibility Model. The Shared Responsibility Model distinguishes between AWS’s and the customer’s security responsibility over a service. Similarly, managed versus unmanaged can be understood as a tradeoff between convenience and control."
   ]
  },
  {
   "cell_type": "markdown",
   "metadata": {},
   "source": [
    "### On-Premises Database\n",
    "Let’s say you operate a relational database on-premises (in your own data center). In this scenario, you are responsible for all aspects of operation, including the security and electricity of the data center, the management of the host machine, the management of the database on that host, as well as optimizing queries and managing customer data. You are responsible for absolutely everything, which means you have control over absolutely everything."
   ]
  },
  {
   "cell_type": "markdown",
   "metadata": {},
   "source": [
    "### Unmanaged Database\n",
    "<center>\n",
    "  <img \n",
    "    src=\"../../images/c1/w3/06.png\" \n",
    "    onerror=\"\n",
    "      this.onerror = null;\n",
    "      const repo = 'https://github.com/alirezatheh/aws-fundamentals-notes/blob/main';\n",
    "      this.src = repo + this.src.split('..')[2];\n",
    "    \"\n",
    "  >\n",
    "</center>\n",
    "\n",
    "Now, let’s say you want to shift some of this work to AWS by running your relational database on Amazon EC2. If you host a database on Amazon EC2, AWS takes care of implementing and maintaining the physical infrastructure and hardware and installing the operating system of the EC2 instance. However, you’re still responsible for managing the EC2 instance, managing the database on that host, optimizing queries, and managing customer data.\n",
    "\n",
    "This is what is often referred to as the **unmanaged database** option on AWS. AWS is responsible for and has control over the hardware and underlying infrastructure, and you are responsible and have control over management of the host and database."
   ]
  },
  {
   "cell_type": "markdown",
   "metadata": {},
   "source": [
    "### Managed Database\n",
    "<center>\n",
    "  <img \n",
    "    src=\"../../images/c1/w3/07.png\" \n",
    "    onerror=\"\n",
    "      this.onerror = null;\n",
    "      const repo = 'https://github.com/alirezatheh/aws-fundamentals-notes/blob/main';\n",
    "      this.src = repo + this.src.split('..')[2];\n",
    "    \"\n",
    "  >\n",
    "</center>\n",
    "\n",
    "If you want to shift even more of the work to AWS, you can use a **managed database** service. These services provide the setup of both the EC2 instance and the database, and they provide systems for high availability, scalability, patching, and backups. However, you’re still responsible for database tuning, query optimization, and of course, ensuring that your customer data is secure. This provides you ultimate convenience, but you have the least amount of control compared to the two previous options."
   ]
  },
  {
   "cell_type": "markdown",
   "metadata": {},
   "source": [
    "## Resources\n",
    "- [*External Site:* AWS: What Is a Relational Database?](https://aws.amazon.com/relational-database/)\n",
    "- [*External Site:* AWS: Databases on AWS](https://aws.amazon.com/products/databases/)"
   ]
  }
 ],
 "metadata": {
  "language_info": {
   "name": "python"
  }
 },
 "nbformat": 4,
 "nbformat_minor": 2
}
